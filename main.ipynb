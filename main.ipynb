{
 "cells": [
  {
   "cell_type": "code",
   "execution_count": 1,
   "id": "initial_id",
   "metadata": {
    "collapsed": true,
    "ExecuteTime": {
     "end_time": "2023-11-20T23:40:06.792444Z",
     "start_time": "2023-11-20T23:40:06.750527Z"
    }
   },
   "outputs": [],
   "source": [
    "from cassandra.cluster import Cluster\n",
    "from cassandra.auth import PlainTextAuthProvider"
   ]
  },
  {
   "cell_type": "code",
   "execution_count": 2,
   "outputs": [],
   "source": [
    "ap = PlainTextAuthProvider(username='cassandra', password='password123')\n",
    "\n",
    "cluster = Cluster(auth_provider=ap)\n",
    "session = cluster.connect()"
   ],
   "metadata": {
    "collapsed": false,
    "ExecuteTime": {
     "end_time": "2023-11-20T23:40:11.924380Z",
     "start_time": "2023-11-20T23:40:06.793529Z"
    }
   },
   "id": "4cabbaa26dc0a573"
  },
  {
   "cell_type": "code",
   "execution_count": 3,
   "outputs": [],
   "source": [
    "session.execute(\"\"\"\n",
    "    create keyspace if not exists default \n",
    "    with replication = {\n",
    "        'class' : 'NetworkTopologyStrategy',\n",
    "        'datacenter1' : 1\n",
    "    };\n",
    "\"\"\");"
   ],
   "metadata": {
    "collapsed": false,
    "ExecuteTime": {
     "end_time": "2023-11-20T23:40:11.942027Z",
     "start_time": "2023-11-20T23:40:11.925617Z"
    }
   },
   "id": "64179d80c6960165"
  },
  {
   "cell_type": "code",
   "execution_count": 4,
   "outputs": [],
   "source": [
    "session.set_keyspace('default')"
   ],
   "metadata": {
    "collapsed": false,
    "ExecuteTime": {
     "end_time": "2023-11-20T23:40:11.953214Z",
     "start_time": "2023-11-20T23:40:11.942256Z"
    }
   },
   "id": "4ac41f6ab6c1ce04"
  },
  {
   "cell_type": "markdown",
   "source": [
    "## Створюємо тестову таблицю"
   ],
   "metadata": {
    "collapsed": false
   },
   "id": "5dab1e105b90cc13"
  },
  {
   "cell_type": "code",
   "execution_count": 5,
   "outputs": [],
   "source": [
    "session.execute(\"\"\"\n",
    "    create table if not exists \"messages\"\n",
    "    (\n",
    "        id          int,\n",
    "        body        text,\n",
    "        PRIMARY KEY (id)\n",
    "    );\n",
    "\"\"\");"
   ],
   "metadata": {
    "collapsed": false,
    "ExecuteTime": {
     "end_time": "2023-11-20T23:40:11.960216Z",
     "start_time": "2023-11-20T23:40:11.953118Z"
    }
   },
   "id": "f6a618ffc8cd49b4"
  },
  {
   "cell_type": "markdown",
   "source": [
    "## Пишемо тестові дані в базу "
   ],
   "metadata": {
    "collapsed": false
   },
   "id": "d90a6670b16c8e2d"
  },
  {
   "cell_type": "code",
   "execution_count": 6,
   "outputs": [],
   "source": [
    "for identifier in range(10):\n",
    "    session.execute(\"\"\"\n",
    "        insert into messages (id, body) values (%s, %s);\n",
    "    \"\"\", (identifier, f\"Message {identifier}\"))"
   ],
   "metadata": {
    "collapsed": false,
    "ExecuteTime": {
     "end_time": "2023-11-20T23:40:11.982320Z",
     "start_time": "2023-11-20T23:40:11.958147Z"
    }
   },
   "id": "d12a95a78ed624d7"
  },
  {
   "cell_type": "markdown",
   "source": [
    "## Для кожного рядка виведемо ноду, на якій він зберігається  "
   ],
   "metadata": {
    "collapsed": false
   },
   "id": "385eccd47c075ac"
  },
  {
   "cell_type": "code",
   "execution_count": 7,
   "outputs": [
    {
     "name": "stdout",
     "output_type": "stream",
     "text": [
      "192.168.80.3\r\n",
      "192.168.80.3\r\n",
      "192.168.80.2\r\n",
      "192.168.80.3\r\n",
      "192.168.80.2\r\n",
      "192.168.80.3\r\n",
      "192.168.80.3\r\n",
      "192.168.80.2\r\n",
      "192.168.80.3\r\n",
      "192.168.80.3\r\n"
     ]
    }
   ],
   "source": [
    "for row in session.execute('select * from messages;'):\n",
    "    !docker compose exec cassandra-node1 nodetool -h localhost getendpoints default messages {row.id}    "
   ],
   "metadata": {
    "collapsed": false,
    "ExecuteTime": {
     "end_time": "2023-11-20T23:40:20.241856Z",
     "start_time": "2023-11-20T23:40:11.982937Z"
    }
   },
   "id": "c16f0a4f839de2e2"
  },
  {
   "cell_type": "markdown",
   "source": [
    "Бачимо, що рядки записалися на різні ноди."
   ],
   "metadata": {
    "collapsed": false
   },
   "id": "49e6d909e92cea5e"
  }
 ],
 "metadata": {
  "kernelspec": {
   "display_name": "Python 3",
   "language": "python",
   "name": "python3"
  },
  "language_info": {
   "codemirror_mode": {
    "name": "ipython",
    "version": 2
   },
   "file_extension": ".py",
   "mimetype": "text/x-python",
   "name": "python",
   "nbconvert_exporter": "python",
   "pygments_lexer": "ipython2",
   "version": "2.7.6"
  }
 },
 "nbformat": 4,
 "nbformat_minor": 5
}
